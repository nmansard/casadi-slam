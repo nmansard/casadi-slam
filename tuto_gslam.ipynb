{
 "cells": [
  {
   "attachments": {},
   "cell_type": "markdown",
   "metadata": {},
   "source": [
    "# Graph-SLAM types and helper methods\n",
    "\n",
    "This tuto introduces you to the variable types that we defined for our SLAM problem, and also to some methods that we pre-programmed for you.\n",
    "\n",
    "## Overview\n",
    "\n",
    "Our SLAM system consists of a single monocular camera, and some markers or tags from the AprilTag family, which we will consider as our landmarks.\n",
    "\n",
    "Geometrically, each keyframe in the graph will be a 3D pose.\n",
    "\n",
    "Also, each landmark in the graph will be a 3D pose.\n",
    "\n",
    "Factors in the graph will be of three different types:\n",
    "\n",
    "- Motion factor, from one keyframe to the next.\n",
    "- Landmark factor, from one keyframe to one landmark.\n",
    "- Prior factor, from one keyframe to some absolute value, or from one landmark to some absolute value.\n",
    "\n",
    "Each factor will be associated with a particular cost function.\n",
    "\n",
    "The total cost to be minimized by the solver will be the sum of the costs of each one of the factors.\n",
    "\n",
    "## Variable types\n",
    "\n",
    "### The class `OptiVariablePose3`\n",
    "\n",
    "This is a Pose3 object that can be used in Casadi for symbolic computations. Our keyframes and landmarks will be of this type.\n",
    "\n",
    "the class basically contains:\n",
    "- an ID\n",
    "- a position : a symbolic 3-vector \n",
    "- an orientation : a symbolic 3-vector\n",
    "- a method to recover the rotation matrix\n",
    "- the initial value of position : a numeric 3-vector\n",
    "- the initial value of orientation : a numeric 3-vector\n",
    "\n",
    "This is the prototype and constructor:\n"
   ]
  },
  {
   "cell_type": "code",
   "execution_count": null,
   "metadata": {},
   "outputs": [],
   "source": [
    "import numpy as np\n",
    "import pinocchio as pin\n",
    "import casadi\n",
    "from pinocchio import casadi as cpin\n",
    "from gslam_april_tools import *\n"
   ]
  },
  {
   "cell_type": "code",
   "execution_count": null,
   "metadata": {},
   "outputs": [],
   "source": [
    "class OptiVariablePose3:\n",
    "    def __init__(self, opti, id, position, anglevector):\n",
    "        self.id             = id\n",
    "        self.position       = opti.variable(3)\n",
    "        self.anglevector    = opti.variable(3)\n",
    "        self.R              = exp3(self.anglevector)\n",
    "        opti.set_initial(self.position, position)\n",
    "        opti.set_initial(self.anglevector, anglevector)\n"
   ]
  },
  {
   "attachments": {},
   "cell_type": "markdown",
   "metadata": {},
   "source": [
    "To create a keyframe, or a landmark, simply do:"
   ]
  },
  {
   "cell_type": "code",
   "execution_count": null,
   "metadata": {},
   "outputs": [],
   "source": [
    "# some necesary variables\n",
    "opti = casadi.Opti()\n",
    "pos_example = np.array([1,2,3])\n",
    "ori_example = np.array([4,5,6])\n",
    "\n",
    "# create one keyframe!\n",
    "kf_id = 1\n",
    "keyframe = OptiVariablePose3(opti, kf_id, pos_example, ori_example)\n",
    "\n",
    "# create one landmark!\n",
    "lmk_id = 11\n",
    "landmark = OptiVariablePose3(opti, lmk_id, pos_example, ori_example)"
   ]
  },
  {
   "attachments": {},
   "cell_type": "markdown",
   "metadata": {},
   "source": [
    "Keyframes and landmarks are stored in Dictionnaries, indexed by their ID:"
   ]
  },
  {
   "cell_type": "code",
   "execution_count": null,
   "metadata": {},
   "outputs": [],
   "source": [
    "keyframes = dict()\n",
    "landmarks = dict()\n",
    "\n",
    "keyframes[kf_id]  = keyframe\n",
    "landmarks[lmk_id] = landmark"
   ]
  },
  {
   "attachments": {},
   "cell_type": "markdown",
   "metadata": {},
   "source": [
    "So, having an ID, one can retrieve the KF or the lmk easily:"
   ]
  },
  {
   "cell_type": "code",
   "execution_count": null,
   "metadata": {},
   "outputs": [],
   "source": [
    "lmk = landmarks[lmk_id]\n",
    "kf  = keyframes[kf_id]"
   ]
  },
  {
   "attachments": {},
   "cell_type": "markdown",
   "metadata": {},
   "source": [
    "Adding more kfs (or lmks) is easy, just remember to change ID each time:"
   ]
  },
  {
   "cell_type": "code",
   "execution_count": null,
   "metadata": {},
   "outputs": [],
   "source": [
    "# increment ID and create new keyframe:\n",
    "kf_id += 1\n",
    "keyframe = OptiVariablePose3(opti, kf_id, pos_example, ori_example)\n",
    "keyframes[kf_id]  = keyframe"
   ]
  },
  {
   "attachments": {},
   "cell_type": "markdown",
   "metadata": {},
   "source": [
    "### The class `Factor`\n",
    "\n",
    "Factors in our example are fairly simple. There are three types, but all can be stored in a single class:\n",
    "- Prior factor: concerns a single KF or a single Lmk\n",
    "- Motion factor: concerns two consecutive KFs\n",
    "- Landmark factor: concerns one KF and one lmk\n",
    "\n",
    "We define the class `Factor` as follows:"
   ]
  },
  {
   "cell_type": "code",
   "execution_count": null,
   "metadata": {},
   "outputs": [],
   "source": [
    "class Factor:\n",
    "    def __init__(self, type, id, i, j, meas, sqrt_info):\n",
    "        self.type = type\n",
    "        self.id = id\n",
    "        self.i = i\n",
    "        self.j = j\n",
    "        self.meas = meas\n",
    "        self.sqrt_info = sqrt_info"
   ]
  },
  {
   "attachments": {},
   "cell_type": "markdown",
   "metadata": {},
   "source": [
    "The fields of `Factor` are explained as follows:\n",
    "- `type`: string with values in `{'prior','motion','landmark'}`\n",
    "- `id`: integer\n",
    "- `i`: the ID of the first concerned object\n",
    "- `j`: the ID of the second concerned object\n",
    "- `meas`: the measurement\n",
    "- `sqrt_info`: the square-root of the information matrix\n",
    "\n",
    "So to create a factor, you need to know each of these fields.\n",
    "\n",
    "Factors are stored in a dictionary, indexed by their own ID.\n",
    "\n",
    "#### Prior factor\n",
    "\n",
    "It constrains one keyframe:\n",
    "\n"
   ]
  },
  {
   "cell_type": "code",
   "execution_count": null,
   "metadata": {},
   "outputs": [],
   "source": [
    "factors = dict()\n",
    "\n",
    "fac_id = 0\n",
    "kf_id = 1\n",
    "dummy = 0\n",
    "meas = np.array([0,0,0,0,0,0])\n",
    "sqrt_info = np.eye(6) / 1e-3 # 1mm, 1mrad, std deviation errors\n",
    "\n",
    "factor = Factor('prior', fac_id, kf_id, dummy, meas, sqrt_info)\n",
    "\n",
    "factors[fac_id] = factor\n"
   ]
  },
  {
   "attachments": {},
   "cell_type": "markdown",
   "metadata": {},
   "source": [
    "#### Motion factor\n",
    "\n",
    "It relates two consecutive keyframes:"
   ]
  },
  {
   "cell_type": "code",
   "execution_count": null,
   "metadata": {},
   "outputs": [],
   "source": [
    "kf1_id = 1\n",
    "kf2_id = 2\n",
    "meas = np.array([1,2,3,  3,2,1])\n",
    "sqrt_info = np.eye(6) / 1e-3 # 1mm, 1mrad, std deviation errors\n",
    "fac_id += 1\n",
    "\n",
    "factor = Factor('motion', fac_id, kf1_id, kf2_id, meas, sqrt_info)\n",
    "\n",
    "factors[fac_id] = factor\n",
    "\n"
   ]
  },
  {
   "attachments": {},
   "cell_type": "markdown",
   "metadata": {},
   "source": [
    "#### Landmark factor\n",
    "\n",
    "It relates a keyframe and a landmark measured from that keyframe:"
   ]
  },
  {
   "cell_type": "code",
   "execution_count": null,
   "metadata": {},
   "outputs": [],
   "source": [
    "fac_id += 1\n",
    "kf_id = 1\n",
    "lmk_id = lmk_id # this was already defined above\n",
    "meas = np.array([1,2,3,  3,2,1])\n",
    "sqrt_info = np.eye(6) / 1e-3 # 1mm, 1mrad, std deviation errors\n",
    "\n",
    "factor = Factor('landmark', fac_id, kf_id, lmk_id, meas, sqrt_info)\n",
    "\n",
    "factors[fac_id] = factor\n"
   ]
  },
  {
   "attachments": {},
   "cell_type": "markdown",
   "metadata": {},
   "source": [
    "Knowing what kfs or lmks are referred to by the factor is easy: check the `type` and recover the objects accordingly:"
   ]
  },
  {
   "cell_type": "code",
   "execution_count": null,
   "metadata": {},
   "outputs": [],
   "source": [
    "if factor.type == 'prior':\n",
    "    keyframe = keyframes[factor.i]\n",
    "    # do stuff with this KF\n",
    "elif factor.type == 'motion':\n",
    "    keyframe1 = keyframes[factor.i]\n",
    "    keyframe2 = keyframes[factor.j]\n",
    "    # do stuff with these KFs\n",
    "else:\n",
    "    keyframe = keyframes[factor.i]\n",
    "    landmark = landmarks[factor.j]\n",
    "    # do stuff with these KF and lmk\n"
   ]
  },
  {
   "attachments": {},
   "cell_type": "markdown",
   "metadata": {},
   "source": [
    "We use this mechanism to compute the cost to minimize:"
   ]
  },
  {
   "cell_type": "code",
   "execution_count": null,
   "metadata": {},
   "outputs": [],
   "source": [
    "# define dummy cost functions\n",
    "def cost_constant_position (sqrt_info, keyframe1, keyframe2):\n",
    "    return 10\n",
    "def cost_landmark (measurement, sqrt_info, keyframe, landmark):\n",
    "    return 20\n",
    "def cost_keyframe_prior (measurement, sqrt_info, keyframe):\n",
    "    return 30\n",
    "\n",
    "# compute total cost\n",
    "def computeTotalCost(factors, keyframes, landmarks):\n",
    "    totalcost = 0\n",
    "    for fid in factors:\n",
    "        factor = factors[fid]\n",
    "        i = factor.i\n",
    "        j = factor.j\n",
    "        measurement = factor.meas\n",
    "        sqrt_info   = factor.sqrt_info\n",
    "        if factor.type == \"motion\":\n",
    "            totalcost += cost_constant_position (sqrt_info, keyframes[i], keyframes[j])\n",
    "        elif factor.type == \"landmark\":\n",
    "            totalcost += cost_landmark (measurement, sqrt_info, keyframes[i], landmarks[j])\n",
    "        elif factor.type == \"prior\":\n",
    "            totalcost += cost_keyframe_prior (measurement, sqrt_info, keyframes[i])\n",
    "        else:\n",
    "            print('Error in the factor type: type not known')\n",
    "    return totalcost\n",
    "\n",
    "totalcost = computeTotalCost(factors, keyframes, landmarks)\n",
    "\n",
    "print('total cost = ', totalcost)"
   ]
  },
  {
   "attachments": {},
   "cell_type": "markdown",
   "metadata": {},
   "source": [
    "where the cost of each type of factor is computed by a dedicated function in the example above, they are defined as dummy functions). We see these cost functions below."
   ]
  },
  {
   "attachments": {},
   "cell_type": "markdown",
   "metadata": {},
   "source": [
    "## Cost functions\n",
    "\n",
    "The cost function is responsible for computing the cost of a given factor. Since a factor involves a measurement and some states, we begin by computing the expected value of the measurement, given the states:\n",
    "$$\n",
    "e = h(x_1, x_2)\n",
    "$$\n",
    "where $h()$ is a particular observation model, and $x_i$ are the states involved in the factor.\n",
    "\n",
    "Then we compare our measurement with the expected value, obtaining what we call the prediction error $z$:\n",
    "$$\n",
    "z = y - e = y - h(x_1,x_2)\n",
    "$$\n",
    "\n",
    "this error $z$ is then weighted by the square root of the information matrix, $W$, and then taken the sauqred norm:\n",
    "$$\n",
    "c = || W \\cdot z ||^2\n",
    "$$\n",
    "\n",
    "Overall, the cost we have computed for a given factor $k$ is the following:\n",
    "$$\n",
    "c_k = ||W_k(y_k-h_k(x_{i_k},x_{j_k}))||^2\n",
    "$$\n",
    "and the total cost for $K$ factors is\n",
    "$$\n",
    "c = \\sum_{k=0}^K c_k = \\sum_{k=0}^K ||W_k(y_k-h_k(x_{i_k},x_{j_k}))||^2\n",
    "$$\n",
    "This is the cost to be minimized by the solver.\n"
   ]
  },
  {
   "cell_type": "markdown",
   "metadata": {},
   "source": [
    "\n",
    "### Landmark observation cost function\n",
    "\n",
    "We can observe teh computation of one of such costs for our SLAM. We study the case of a landmark observation from a keyframe. We note the following facts:\n",
    "1. the measurement $y$ is that obtained by the Apriltag detector, in the form of a translation vector and a rotation vector, stacked in a 6-vector.\n",
    "1. one of the states $x_1$ is a particular keyframe, indexed by field `i` in the factor\n",
    "1. the other state $x_2$ is a landmark, indexed by field `j` in the factor\n",
    "1. the error $z$ is computed according to a chain of operations:\n",
    "   1. the measurement is a 6-vector with translational and rotational parts\n",
    "      $$\n",
    "      y = \\begin{bmatrix}y_T \\\\ y_w\\end{bmatrix}\n",
    "      $$\n",
    "   1. the expected measurement $e$ is a 3D composition of keyframe and landmark states. It is therefore a 3d pose with translation $e_T$ and rotation matrix $e_R$\n",
    "      $$\n",
    "      e = \\begin{bmatrix}e_T \\\\ e_R\\end{bmatrix}\n",
    "      $$\n",
    "   1. the error is the \"difference\" of the predicted above with the measurement, composed of translational and rotational parts,\n",
    "      $$\n",
    "      z = \\begin{bmatrix}z_T \\\\ z_w\\end{bmatrix}\n",
    "      $$\n",
    "      1. for the translational part, the difference is a mere subtraction\n",
    "         $$\n",
    "         z_T = y_T - e_T\n",
    "         $$\n",
    "      1. for the rotational part, this \"difference\" is done in the SO3 manifold, with,\n",
    "         $$z_w = \\log(e_R^\\top \\cdot \\exp(y_w))$$\n",
    "\n",
    "It seems complicated. A glipmse at the code may clarify things up:"
   ]
  },
  {
   "cell_type": "code",
   "execution_count": null,
   "metadata": {},
   "outputs": [],
   "source": [
    "# landmark observations\n",
    "def cost_landmark(meas, sqrt_info, keyframe_i, landmark_j):\n",
    "    # predict: landmark pose wrt KF pose\n",
    "    ppred = keyframe_i.R.T @ (landmark_j.position - keyframe_i.position)\n",
    "    Rpred = keyframe_i.R.T @ landmark_j.R\n",
    "\n",
    "    # error: use manifold tools for the orientation part\n",
    "    perr = meas[0:3] - ppred\n",
    "    Rerr = Rpred.T @ exp3(meas[3:6])\n",
    "    werr = log3(Rerr)\n",
    "\n",
    "    err = casadi.vertcat(perr, werr)\n",
    " \n",
    "    # apply weight and compute squared norm\n",
    "    cost = casadi.sumsqr(sqrt_info @ err) \n",
    "    return cost\n"
   ]
  },
  {
   "attachments": {},
   "cell_type": "markdown",
   "metadata": {},
   "source": [
    "### Motion cost function: costant position model\n",
    "\n",
    "Since we have no motion sensor, we assume the motion is null at each step. This is known as a constant-position motion model. What we do is:\n",
    "- predict the motion: compose $x_1$ and $x_2$ so that you obtain a prediction that corresponds to the frame `keyframe2` with respect to `keyframe1`.\n",
    "- compare this prediction with the null motion, that is, $y = 0_{6\\times1}$\n",
    "\n",
    "Since $y=0$, we can write the function prototype for the constant-position motion model with no measurement input. To allow for real motion, we have to provide an information matrix that is small.\n",
    "\n",
    "Now, define a similar cost function for the motion, that is, between two keyframes.\n",
    "\n"
   ]
  },
  {
   "cell_type": "code",
   "execution_count": null,
   "metadata": {},
   "outputs": [],
   "source": [
    "def cost_constant_position(sqrt_info, keyframe_i, keyframe_j):\n",
    "    # write y9our code here and change the return line below\n",
    "    return 0  "
   ]
  },
  {
   "attachments": {},
   "cell_type": "markdown",
   "metadata": {},
   "source": [
    "### Prior keyframe cost function\n",
    "\n",
    "Now, write a cost function to apply a prior pose to one keyframe:"
   ]
  },
  {
   "cell_type": "code",
   "execution_count": null,
   "metadata": {},
   "outputs": [],
   "source": [
    "def cost_keyframe_prior(meas, sqrt_info, keyframe_i):\n",
    "    return 0"
   ]
  },
  {
   "attachments": {},
   "cell_type": "markdown",
   "metadata": {},
   "source": [
    "### Prior landmark cost function\n",
    "\n",
    "Finally, write a cost function to apply a prior pose to a landmark:"
   ]
  },
  {
   "cell_type": "code",
   "execution_count": null,
   "metadata": {},
   "outputs": [],
   "source": [
    "def cost_landmark_prior(meas, sqrt_info, landmark):\n",
    "    return 0"
   ]
  }
 ],
 "metadata": {
  "kernelspec": {
   "display_name": "Python 3",
   "language": "python",
   "name": "python3"
  },
  "language_info": {
   "codemirror_mode": {
    "name": "ipython",
    "version": 3
   },
   "file_extension": ".py",
   "mimetype": "text/x-python",
   "name": "python",
   "nbconvert_exporter": "python",
   "pygments_lexer": "ipython3",
   "version": "3.8.10"
  },
  "orig_nbformat": 4,
  "vscode": {
   "interpreter": {
    "hash": "916dbcbb3f70747c44a77c7bcd40155683ae19c65e1c03b4aa3499c5328201f1"
   }
  }
 },
 "nbformat": 4,
 "nbformat_minor": 2
}
