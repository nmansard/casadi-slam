{
 "cells": [
  {
   "attachments": {},
   "cell_type": "markdown",
   "id": "0d413ce9",
   "metadata": {},
   "source": [
    "# Casadi with IpOpt: howto by example\n",
    "\n",
    "In this notebook we give the basic commands to build a numerical program formulated with Casadi and solved with IpOpt. The example is to solve a very simple toy problem involving a rotation\n",
    "$$\n",
    "min_w   || R p - p' ||^2  \n",
    "$$\n",
    "with $R:= exp(w_\\times)$, $p$ and $p'$ are two known 3d vectors.\n",
    "\n",
    "The result is displayed in Meshcat."
   ]
  },
  {
   "cell_type": "markdown",
   "id": "e7e949aa",
   "metadata": {},
   "source": [
    "## Setup \n",
    "We will need casadi, numpy, pinocchio for simple SO3 algebra and meshcat for renderig. \n",
    "If you dont have casadi, install it with `sudo apt install robotpkg-py38-casadi`."
   ]
  },
  {
   "cell_type": "code",
   "execution_count": null,
   "id": "e579d1a3",
   "metadata": {},
   "outputs": [],
   "source": [
    "import casadi\n",
    "import pinocchio as pin\n",
    "from casadi_so3 import exp3,log3\n",
    "from pinocchio.utils import rotate\n",
    "import numpy as np\n",
    "import time\n",
    "from utils.meshcat_viewer_wrapper import MeshcatVisualizer"
   ]
  },
  {
   "cell_type": "markdown",
   "id": "689d402c",
   "metadata": {},
   "source": [
    "## Reference values\n",
    "We define an arbitrary reference trajectory for +pdes+ which is rotating and oscillating around the surface of a sphere."
   ]
  },
  {
   "cell_type": "code",
   "execution_count": null,
   "id": "156a6b91",
   "metadata": {},
   "outputs": [],
   "source": [
    "p = np.array([0.1, 0.2, 0.3])\n",
    "omega = 2*np.pi*.5\n",
    "pdes = [ rotate('x',t)@rotate('y',2*t-5)@ ((1+.2*np.sin(t*omega))*p)\n",
    "         for t in np.arange(0,5,.02) ]\n",
    "T = len(pdes)"
   ]
  },
  {
   "cell_type": "markdown",
   "id": "6109abf3",
   "metadata": {},
   "source": [
    "## Problem formulation\n",
    "The problem is handled by a +casadi.Opti+ object, which enables to define Casadi variables and expression graphs with them. Let's formulate the problem of the header by this mean. \n"
   ]
  },
  {
   "cell_type": "code",
   "execution_count": null,
   "id": "0b60d158",
   "metadata": {},
   "outputs": [],
   "source": [
    "# Create the casadi optimization problem\n",
    "opti = casadi.Opti()"
   ]
  },
  {
   "cell_type": "markdown",
   "id": "82ca2903",
   "metadata": {},
   "source": [
    "The variables are a collection of SO(3) along a temporal line, defined by their angle-vector representation $[w_0...w_{T-1}]$. We accordingly define the sequene of rotation matrix $[R_0...R_{T-1}]$. You can see them as variables, but they are actually expression graphs built from the $w_t$."
   ]
  },
  {
   "cell_type": "code",
   "execution_count": null,
   "id": "597413b5",
   "metadata": {},
   "outputs": [],
   "source": [
    "# The optimization variable is the angle-vector w and the associated rotation R=exp(w)\n",
    "ws = [ opti.variable(3) for t in range(T) ]\n",
    "Rs = [ exp3(w) for w in ws ]"
   ]
  },
  {
   "cell_type": "markdown",
   "id": "1aafdcc2",
   "metadata": {},
   "source": [
    "We now build the expression graph for the cost. The mathematical operations are gathered in a function to be clean."
   ]
  },
  {
   "cell_type": "code",
   "execution_count": null,
   "id": "c14e5ab6",
   "metadata": {},
   "outputs": [],
   "source": [
    "def make_a_cost_expression(p, pdes, T, ws, Rs):\n",
    "    totalcost = 0\n",
    "\n",
    "    # Beware: casadi matrix product is @ like numpy array product\n",
    "    for t in range(T):\n",
    "        totalcost += 0.5 * casadi.sumsqr(Rs[t] @ p - pdes[t])\n",
    "        if t>0:\n",
    "            totalcost += 0.5 * casadi.sumsqr( log3(Rs[t-1].T @ Rs[t]) )\n",
    "            #totalcost += 0.5 * casadi.sumsqr( ws[t] - ws[t-1])\n",
    "    return totalcost"
   ]
  },
  {
   "cell_type": "code",
   "execution_count": null,
   "id": "d7509d11",
   "metadata": {},
   "outputs": [],
   "source": [
    "totalcost = make_a_cost_expression(p, pdes, T, ws, Rs) "
   ]
  },
  {
   "cell_type": "markdown",
   "id": "6f2cb49e",
   "metadata": {},
   "source": [
    "+totalcost+ is an expression, made from the variables $w_t$. This expression can be used by Casadi to evaluate the cost (given candidate values for the $w_t$, give me the value of the cost) but can also be algorithmically differentiated to obtain gradient or Hessian.\n",
    "We specify to Casadi what is the expression to minimize."
   ]
  },
  {
   "cell_type": "code",
   "execution_count": null,
   "id": "45e85363",
   "metadata": {},
   "outputs": [],
   "source": [
    "opti.minimize(totalcost)"
   ]
  },
  {
   "cell_type": "markdown",
   "id": "bf12988f",
   "metadata": {},
   "source": [
    "We can now ask Casadi to call IpOpt to solve it."
   ]
  },
  {
   "cell_type": "markdown",
   "id": "f624af0a",
   "metadata": {},
   "source": [
    "## Solve\n",
    "Casadi will call an external solver to optimize the given problem. We are going to use +IpOpt+, which is not the best solver for the simple unconstrained sparse problem we are proposing, but it is convenient and strong, so ... why not?"
   ]
  },
  {
   "cell_type": "code",
   "execution_count": null,
   "id": "3b3f723a",
   "metadata": {},
   "outputs": [],
   "source": [
    "opti.solver(\"ipopt\")"
   ]
  },
  {
   "cell_type": "markdown",
   "id": "2e5d455e",
   "metadata": {},
   "source": [
    "Then simply solve:"
   ]
  },
  {
   "cell_type": "code",
   "execution_count": null,
   "id": "f272ad65",
   "metadata": {},
   "outputs": [],
   "source": [
    "sol = opti.solve()"
   ]
  },
  {
   "cell_type": "markdown",
   "id": "97ec7e80",
   "metadata": {},
   "source": [
    "### Warn start\n",
    "The decision variables can be initialized to accelerate the search."
   ]
  },
  {
   "cell_type": "code",
   "execution_count": null,
   "id": "727ad1d4",
   "metadata": {},
   "outputs": [],
   "source": [
    "for t in range(T):\n",
    "    opti.set_initial(ws[t],np.array([.1,.1,.1]))"
   ]
  },
  {
   "cell_type": "code",
   "execution_count": null,
   "id": "75921d35",
   "metadata": {},
   "outputs": [],
   "source": [
    "sol = opti.solve()"
   ]
  },
  {
   "cell_type": "markdown",
   "id": "843a7aba",
   "metadata": {},
   "source": [
    "### Silence \n",
    "The solver can be given some extra options, for example here to be silent:"
   ]
  },
  {
   "cell_type": "code",
   "execution_count": null,
   "id": "ee249933",
   "metadata": {},
   "outputs": [],
   "source": [
    "opts = {'ipopt.print_level': 0, 'print_time': 0, 'ipopt.sb': 'yes'}\n",
    "opti.solver(\"ipopt\",opts)\n",
    "sol = opti.solve()"
   ]
  },
  {
   "cell_type": "markdown",
   "id": "c8516d69",
   "metadata": {},
   "source": [
    "## Recovering the optimal values"
   ]
  },
  {
   "cell_type": "markdown",
   "id": "f4e90e9f",
   "metadata": {},
   "source": [
    "Use +opti.value(...)+ to get the value of any expresion you like.\n",
    "For example here, the value of the decision variable at the optimum and the corresponding rotation matrices are stored in 2 arrays."
   ]
  },
  {
   "cell_type": "code",
   "execution_count": null,
   "id": "c4a887c4",
   "metadata": {},
   "outputs": [],
   "source": [
    "ws_sol = [ opti.value(w) for w in ws ]\n",
    "Rs_sol = [ opti.value(R) for R in Rs ]"
   ]
  },
  {
   "cell_type": "markdown",
   "id": "3f6896e1",
   "metadata": {},
   "source": [
    "Sanity check:"
   ]
  },
  {
   "cell_type": "code",
   "execution_count": null,
   "id": "faacc3ac",
   "metadata": {},
   "outputs": [],
   "source": [
    "for R_sol in Rs_sol:\n",
    "    assert np.allclose(R_sol @ R_sol.T, np.eye(3))"
   ]
  },
  {
   "cell_type": "markdown",
   "id": "84f3b4e8",
   "metadata": {},
   "source": [
    "## In case IpOpt does not converge\n",
    "Then it raises an error. The candidate values are then not directly available but can be recovered."
   ]
  },
  {
   "cell_type": "code",
   "execution_count": null,
   "id": "961f7ef9",
   "metadata": {},
   "outputs": [],
   "source": [
    "try:\n",
    "    sol = opti.solve_limited()\n",
    "    ws_sol = [ opti.value(w) for w in ws ]\n",
    "    Rs_sol = [ opti.value(R) for R in Rs ]\n",
    "except:\n",
    "    print('ERROR in convergence, plotting debug info.')\n",
    "    ws_sol = [ opti.debug.value(w) for w in ws ]\n",
    "    Rs_sol = [ opti.debug.value(R) for R in Rs ]"
   ]
  },
  {
   "cell_type": "markdown",
   "id": "0a3a1ee1",
   "metadata": {},
   "source": [
    "## Display"
   ]
  },
  {
   "cell_type": "code",
   "execution_count": null,
   "id": "057fd100",
   "metadata": {},
   "outputs": [],
   "source": [
    "viz = MeshcatVisualizer()\n",
    "viz.viewer.jupyter_cell()"
   ]
  },
  {
   "cell_type": "code",
   "execution_count": null,
   "id": "8dd19dd4",
   "metadata": {},
   "outputs": [],
   "source": [
    "pointID = \"world/point\"\n",
    "viz.addSphere(pointID, 0.1, [1, 0, 0, 1])\n",
    "pointdesID = \"world/pointdes\"\n",
    "viz.addSphere(pointdesID, 0.1, [0, 1, 0, 1])\n",
    "boxID = \"world/box\"\n",
    "viz.addBox(boxID, (p * 2).tolist(), [1, 1, 0, .1])\n",
    "\n",
    "def viewtraj():\n",
    "    for t,[R_sol,pt] in enumerate(zip(Rs_sol,pdes)):\n",
    "        viz.applyConfiguration(pointdesID, pt.tolist() + [0, 0, 0, 1])\n",
    "        viz.applyConfiguration(pointID, (R_sol @ p).tolist() + [0, 0, 0, 1])\n",
    "        viz.applyConfiguration(boxID, [0, 0, 0] + pin.Quaternion(R_sol).coeffs().tolist())\n",
    "        time.sleep(1e-2)"
   ]
  },
  {
   "cell_type": "code",
   "execution_count": null,
   "id": "83563aa4",
   "metadata": {},
   "outputs": [],
   "source": [
    "viewtraj()"
   ]
  },
  {
   "cell_type": "code",
   "execution_count": null,
   "id": "490a3034",
   "metadata": {},
   "outputs": [],
   "source": []
  }
 ],
 "metadata": {
  "kernelspec": {
   "display_name": "Python 3",
   "language": "python",
   "name": "python3"
  },
  "language_info": {
   "codemirror_mode": {
    "name": "ipython",
    "version": 3
   },
   "file_extension": ".py",
   "mimetype": "text/x-python",
   "name": "python",
   "nbconvert_exporter": "python",
   "pygments_lexer": "ipython3",
   "version": "3.8.10 (default, Nov 14 2022, 12:59:47) \n[GCC 9.4.0]"
  },
  "vscode": {
   "interpreter": {
    "hash": "916dbcbb3f70747c44a77c7bcd40155683ae19c65e1c03b4aa3499c5328201f1"
   }
  }
 },
 "nbformat": 4,
 "nbformat_minor": 5
}
