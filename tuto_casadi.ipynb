{
 "cells": [
  {
   "attachments": {},
   "cell_type": "markdown",
   "id": "0d413ce9",
   "metadata": {},
   "source": [
    "# Casadi with IpOpt: howto by example\n",
    "\n",
    "In this notebook we give the basic commands to build a numerical program formulated with Casadi and solved with IpOpt. The example is to solve a very simple toy problem involving a rotation\n",
    "$$\n",
    "min_w   || R p - p' ||^2  \n",
    "$$\n",
    "with $R:= exp(w_\\times)$, $p$ and $p'$ are two known 3d vectors.\n",
    "\n",
    "The result is displayed in Meshcat."
   ]
  },
  {
   "cell_type": "markdown",
   "id": "e7e949aa",
   "metadata": {},
   "source": [
    "## Setup \n",
    "We will need casadi, numpy, pinocchio for simple SO3 algebra and meshcat for renderig. \n",
    "If you dont have casadi, install it with `sudo apt install robotpkg-py38-casadi`."
   ]
  },
  {
   "cell_type": "code",
   "execution_count": 1,
   "id": "e579d1a3",
   "metadata": {},
   "outputs": [],
   "source": [
    "import casadi\n",
    "import pinocchio as pin\n",
    "from casadi_so3 import exp3,log3\n",
    "from pinocchio.utils import rotate\n",
    "import numpy as np\n",
    "import time\n",
    "from utils.meshcat_viewer_wrapper import MeshcatVisualizer"
   ]
  },
  {
   "cell_type": "markdown",
   "id": "689d402c",
   "metadata": {},
   "source": [
    "## Reference values\n",
    "We define an arbitrary reference trajectory for +pdes+ which is rotating and oscillating around the surface of a sphere."
   ]
  },
  {
   "cell_type": "code",
   "execution_count": 2,
   "id": "156a6b91",
   "metadata": {},
   "outputs": [],
   "source": [
    "p = np.array([0.1, 0.2, 0.3])\n",
    "omega = 2*np.pi*.5\n",
    "pdes = [ rotate('x',t)@rotate('y',2*t-5)@ ((1+.2*np.sin(t*omega))*p)\n",
    "         for t in np.arange(0,5,.02) ]\n",
    "T = len(pdes)"
   ]
  },
  {
   "cell_type": "markdown",
   "id": "6109abf3",
   "metadata": {},
   "source": [
    "## Problem formulation\n",
    "The problem is handled by a +casadi.Opti+ object, which enables to define Casadi variables and expression graphs with them. Let's formulate the problem of the header by this mean. \n"
   ]
  },
  {
   "cell_type": "code",
   "execution_count": 3,
   "id": "0b60d158",
   "metadata": {},
   "outputs": [],
   "source": [
    "# Create the casadi optimization problem\n",
    "opti = casadi.Opti()"
   ]
  },
  {
   "cell_type": "markdown",
   "id": "82ca2903",
   "metadata": {},
   "source": [
    "The variables are a collection of SO(3) along a temporal line, defined by their angle-vector representation $[w_0...w_{T-1}]$. We accordingly define the sequene of rotation matrix $[R_0...R_{T-1}]$. You can see them as variables, but they are actually expression graphs built from the $w_t$."
   ]
  },
  {
   "cell_type": "code",
   "execution_count": 4,
   "id": "597413b5",
   "metadata": {},
   "outputs": [],
   "source": [
    "# The optimization variable is the angle-vector w and the associated rotation R=exp(w)\n",
    "ws = [ opti.variable(3) for t in range(T) ]\n",
    "Rs = [ exp3(w) for w in ws ]"
   ]
  },
  {
   "cell_type": "markdown",
   "id": "1aafdcc2",
   "metadata": {},
   "source": [
    "We now build the expression graph for the cost. The mathematical operations are gathered in a function to be clean."
   ]
  },
  {
   "cell_type": "code",
   "execution_count": 5,
   "id": "c14e5ab6",
   "metadata": {},
   "outputs": [],
   "source": [
    "def make_a_cost_expression(p, pdes, T, ws, Rs):\n",
    "    totalcost = 0\n",
    "\n",
    "    # Beware: casadi matrix product is @ like numpy array product\n",
    "    for t in range(T):\n",
    "        totalcost += 0.5 * casadi.sumsqr(Rs[t] @ p - pdes[t])\n",
    "        if t>0:\n",
    "            totalcost += 0.5 * casadi.sumsqr( log3(Rs[t-1].T @ Rs[t]) )\n",
    "            #totalcost += 0.5 * casadi.sumsqr( ws[t] - ws[t-1])\n",
    "    return totalcost"
   ]
  },
  {
   "cell_type": "code",
   "execution_count": 6,
   "id": "d7509d11",
   "metadata": {},
   "outputs": [],
   "source": [
    "totalcost = make_a_cost_expression(p, pdes, T, ws, Rs) "
   ]
  },
  {
   "cell_type": "markdown",
   "id": "6f2cb49e",
   "metadata": {},
   "source": [
    "+totalcost+ is an expression, made from the variables $w_t$. This expression can be used by Casadi to evaluate the cost (given candidate values for the $w_t$, give me the value of the cost) but can also be algorithmically differentiated to obtain gradient or Hessian.\n",
    "We specify to Casadi what is the expression to minimize."
   ]
  },
  {
   "cell_type": "code",
   "execution_count": 7,
   "id": "45e85363",
   "metadata": {},
   "outputs": [],
   "source": [
    "opti.minimize(totalcost)"
   ]
  },
  {
   "cell_type": "markdown",
   "id": "bf12988f",
   "metadata": {},
   "source": [
    "We can now ask Casadi to call IpOpt to solve it."
   ]
  },
  {
   "cell_type": "markdown",
   "id": "f624af0a",
   "metadata": {},
   "source": [
    "## Solve\n",
    "Casadi will call an external solver to optimize the given problem. We are going to use +IpOpt+, which is not the best solver for the simple unconstrained sparse problem we are proposing, but it is convenient and strong, so ... why not?"
   ]
  },
  {
   "cell_type": "code",
   "execution_count": 8,
   "id": "3b3f723a",
   "metadata": {},
   "outputs": [],
   "source": [
    "opti.solver(\"ipopt\")"
   ]
  },
  {
   "cell_type": "markdown",
   "id": "2e5d455e",
   "metadata": {},
   "source": [
    "Then simply solve:"
   ]
  },
  {
   "cell_type": "code",
   "execution_count": 9,
   "id": "f272ad65",
   "metadata": {},
   "outputs": [
    {
     "name": "stdout",
     "output_type": "stream",
     "text": [
      "\n",
      "******************************************************************************\n",
      "This program contains Ipopt, a library for large-scale nonlinear optimization.\n",
      " Ipopt is released as open source code under the Eclipse Public License (EPL).\n",
      "         For more information visit http://projects.coin-or.org/Ipopt\n",
      "******************************************************************************\n",
      "\n",
      "This is Ipopt version 3.12.3, running with linear solver mumps.\n",
      "NOTE: Other linear solvers might be more efficient (see Ipopt documentation).\n",
      "\n",
      "Number of nonzeros in equality constraint Jacobian...:        0\n",
      "Number of nonzeros in inequality constraint Jacobian.:        0\n",
      "Number of nonzeros in Lagrangian Hessian.............:     3741\n",
      "\n",
      "Total number of variables............................:      750\n",
      "                     variables with only lower bounds:        0\n",
      "                variables with lower and upper bounds:        0\n",
      "                     variables with only upper bounds:        0\n",
      "Total number of equality constraints.................:        0\n",
      "Total number of inequality constraints...............:        0\n",
      "        inequality constraints with only lower bounds:        0\n",
      "   inequality constraints with lower and upper bounds:        0\n",
      "        inequality constraints with only upper bounds:        0\n",
      "\n",
      "iter    objective    inf_pr   inf_du lg(mu)  ||d||  lg(rg) alpha_du alpha_pr  ls\n",
      "   0  4.2403847e+01 0.00e+00 1.51e-01  -1.0 0.00e+00    -  0.00e+00 0.00e+00   0\n",
      "   1  3.8214781e+01 0.00e+00 1.43e-01  -2.5 1.44e-01   0.0 1.00e+00 1.00e+00f  1\n",
      "   2  2.4547438e+01 0.00e+00 1.53e-01  -2.5 5.20e-01  -0.5 1.00e+00 1.00e+00f  1\n",
      "   3  2.7797144e+00 0.00e+00 7.59e-02  -2.5 1.98e+00  -1.0 1.00e+00 1.00e+00f  1\n",
      "   4  8.4765765e-01 0.00e+00 1.09e-02  -2.5 3.84e-01  -1.4 1.00e+00 1.00e+00f  1\n",
      "   5  7.4160732e-01 0.00e+00 3.11e-03  -3.8 3.43e-01  -1.9 1.00e+00 1.00e+00f  1\n",
      "   6  6.8666300e-01 0.00e+00 4.08e-03  -3.8 3.93e-01  -2.4 1.00e+00 1.00e+00f  1\n",
      "   7  6.4497741e-01 0.00e+00 6.94e-03  -3.8 2.34e+00    -  1.00e+00 2.50e-01f  3\n",
      "   8  6.2420634e-01 0.00e+00 1.62e-02  -3.8 7.31e-01    -  1.00e+00 1.00e+00f  1\n",
      "   9  5.6205295e-01 0.00e+00 1.08e-02  -3.8 7.80e-01    -  1.00e+00 1.00e+00f  1\n",
      "iter    objective    inf_pr   inf_du lg(mu)  ||d||  lg(rg) alpha_du alpha_pr  ls\n",
      "  10  5.4181241e-01 0.00e+00 5.41e-03  -3.8 7.47e-01    -  1.00e+00 5.00e-01f  2\n",
      "  11  5.2969803e-01 0.00e+00 3.62e-03  -3.8 3.19e-01    -  1.00e+00 1.00e+00f  1\n",
      "  12  5.2724893e-01 0.00e+00 3.16e-03  -3.8 4.44e-01    -  1.00e+00 1.00e+00f  1\n",
      "  13  5.2512378e-01 0.00e+00 4.25e-05  -3.8 3.81e-02    -  1.00e+00 1.00e+00f  1\n",
      "  14  5.2503437e-01 0.00e+00 2.57e-04  -5.7 1.27e-01    -  1.00e+00 1.00e+00f  1\n",
      "  15  5.2502098e-01 0.00e+00 3.30e-07  -5.7 3.47e-03    -  1.00e+00 1.00e+00f  1\n",
      "  16  5.2502097e-01 0.00e+00 3.07e-08  -8.6 1.38e-03    -  1.00e+00 1.00e+00f  1\n",
      "  17  5.2502097e-01 0.00e+00 7.91e-15  -8.6 5.78e-07    -  1.00e+00 1.00e+00f  1\n",
      "\n",
      "Number of Iterations....: 17\n",
      "\n",
      "                                   (scaled)                 (unscaled)\n",
      "Objective...............:   5.2502096916837515e-01    5.2502096916837515e-01\n",
      "Dual infeasibility......:   7.9061106619815469e-15    7.9061106619815469e-15\n",
      "Constraint violation....:   0.0000000000000000e+00    0.0000000000000000e+00\n",
      "Complementarity.........:   0.0000000000000000e+00    0.0000000000000000e+00\n",
      "Overall NLP error.......:   7.9061106619815469e-15    7.9061106619815469e-15\n",
      "\n",
      "\n",
      "Number of objective function evaluations             = 29\n",
      "Number of objective gradient evaluations             = 18\n",
      "Number of equality constraint evaluations            = 0\n",
      "Number of inequality constraint evaluations          = 0\n",
      "Number of equality constraint Jacobian evaluations   = 0\n",
      "Number of inequality constraint Jacobian evaluations = 0\n",
      "Number of Lagrangian Hessian evaluations             = 17\n",
      "Total CPU secs in IPOPT (w/o function evaluations)   =      0.035\n",
      "Total CPU secs in NLP function evaluations           =      0.222\n",
      "\n",
      "EXIT: Optimal Solution Found.\n",
      "      solver  :   t_proc      (avg)   t_wall      (avg)    n_eval\n",
      "       nlp_f  |  20.90ms (720.72us)  20.95ms (722.56us)        29\n",
      "  nlp_grad_f  |  27.73ms (  1.46ms)  27.81ms (  1.46ms)        19\n",
      "  nlp_hess_l  | 175.28ms ( 10.31ms) 175.20ms ( 10.31ms)        17\n",
      "       total  | 265.29ms (265.29ms) 264.21ms (264.21ms)         1\n"
     ]
    }
   ],
   "source": [
    "sol = opti.solve()"
   ]
  },
  {
   "cell_type": "markdown",
   "id": "97ec7e80",
   "metadata": {},
   "source": [
    "### Warn start\n",
    "The decision variables can be initialized to accelerate the search."
   ]
  },
  {
   "cell_type": "code",
   "execution_count": 10,
   "id": "727ad1d4",
   "metadata": {},
   "outputs": [],
   "source": [
    "for t in range(T):\n",
    "    opti.set_initial(ws[t],np.array([.1,.1,.1]))"
   ]
  },
  {
   "cell_type": "code",
   "execution_count": 11,
   "id": "75921d35",
   "metadata": {},
   "outputs": [
    {
     "name": "stdout",
     "output_type": "stream",
     "text": [
      "This is Ipopt version 3.12.3, running with linear solver mumps.\n",
      "NOTE: Other linear solvers might be more efficient (see Ipopt documentation).\n",
      "\n",
      "Number of nonzeros in equality constraint Jacobian...:        0\n",
      "Number of nonzeros in inequality constraint Jacobian.:        0\n",
      "Number of nonzeros in Lagrangian Hessian.............:     3741\n",
      "\n",
      "Total number of variables............................:      750\n",
      "                     variables with only lower bounds:        0\n",
      "                variables with lower and upper bounds:        0\n",
      "                     variables with only upper bounds:        0\n",
      "Total number of equality constraints.................:        0\n",
      "Total number of inequality constraints...............:        0\n",
      "        inequality constraints with only lower bounds:        0\n",
      "   inequality constraints with lower and upper bounds:        0\n",
      "        inequality constraints with only upper bounds:        0\n",
      "\n",
      "iter    objective    inf_pr   inf_du lg(mu)  ||d||  lg(rg) alpha_du alpha_pr  ls\n",
      "   0  4.2140670e+01 0.00e+00 1.51e-01  -1.0 0.00e+00    -  0.00e+00 0.00e+00   0\n",
      "   1  3.7865819e+01 0.00e+00 1.43e-01  -2.5 1.45e-01   0.0 1.00e+00 1.00e+00f  1\n",
      "   2  2.4127380e+01 0.00e+00 1.53e-01  -2.5 5.25e-01  -0.5 1.00e+00 1.00e+00f  1\n",
      "   3  2.8905139e+00 0.00e+00 8.32e-02  -2.5 2.13e+00  -1.0 1.00e+00 1.00e+00f  1\n",
      "   4  8.4393968e-01 0.00e+00 1.08e-02  -2.5 4.07e-01  -1.4 1.00e+00 1.00e+00f  1\n",
      "   5  7.3602061e-01 0.00e+00 3.12e-03  -3.8 3.49e-01  -1.9 1.00e+00 1.00e+00f  1\n",
      "   6  6.8298390e-01 0.00e+00 4.10e-03  -3.8 4.00e-01  -2.4 1.00e+00 1.00e+00f  1\n",
      "   7  6.4177102e-01 0.00e+00 6.79e-03  -3.8 2.29e+00    -  1.00e+00 2.50e-01f  3\n",
      "   8  6.2109064e-01 0.00e+00 1.63e-02  -3.8 7.28e-01    -  1.00e+00 1.00e+00f  1\n",
      "   9  5.6002027e-01 0.00e+00 1.04e-02  -3.8 7.57e-01    -  1.00e+00 1.00e+00f  1\n",
      "iter    objective    inf_pr   inf_du lg(mu)  ||d||  lg(rg) alpha_du alpha_pr  ls\n",
      "  10  5.4139482e-01 0.00e+00 5.38e-03  -3.8 7.56e-01    -  1.00e+00 5.00e-01f  2\n",
      "  11  5.2969951e-01 0.00e+00 3.54e-03  -3.8 3.15e-01    -  1.00e+00 1.00e+00f  1\n",
      "  12  5.2725647e-01 0.00e+00 3.22e-03  -3.8 4.42e-01    -  1.00e+00 1.00e+00f  1\n",
      "  13  5.2514865e-01 0.00e+00 4.87e-05  -3.8 4.32e-02    -  1.00e+00 1.00e+00f  1\n",
      "  14  5.2504518e-01 0.00e+00 3.78e-04  -5.7 1.53e-01    -  1.00e+00 1.00e+00f  1\n",
      "  15  5.2502099e-01 0.00e+00 1.17e-06  -5.7 5.74e-03    -  1.00e+00 1.00e+00f  1\n",
      "  16  5.2502097e-01 0.00e+00 1.40e-07  -8.6 2.90e-03    -  1.00e+00 1.00e+00f  1\n",
      "  17  5.2502097e-01 0.00e+00 3.07e-13  -8.6 2.84e-06    -  1.00e+00 1.00e+00f  1\n",
      "\n",
      "Number of Iterations....: 17\n",
      "\n",
      "                                   (scaled)                 (unscaled)\n",
      "Objective...............:   5.2502096916837471e-01    5.2502096916837471e-01\n",
      "Dual infeasibility......:   3.0657941463285709e-13    3.0657941463285709e-13\n",
      "Constraint violation....:   0.0000000000000000e+00    0.0000000000000000e+00\n",
      "Complementarity.........:   0.0000000000000000e+00    0.0000000000000000e+00\n",
      "Overall NLP error.......:   3.0657941463285709e-13    3.0657941463285709e-13\n",
      "\n",
      "\n",
      "Number of objective function evaluations             = 29\n",
      "Number of objective gradient evaluations             = 18\n",
      "Number of equality constraint evaluations            = 0\n",
      "Number of inequality constraint evaluations          = 0\n",
      "Number of equality constraint Jacobian evaluations   = 0\n",
      "Number of inequality constraint Jacobian evaluations = 0\n",
      "Number of Lagrangian Hessian evaluations             = 17\n",
      "Total CPU secs in IPOPT (w/o function evaluations)   =      0.040\n",
      "Total CPU secs in NLP function evaluations           =      0.229\n",
      "\n",
      "EXIT: Optimal Solution Found.\n",
      "      solver  :   t_proc      (avg)   t_wall      (avg)    n_eval\n",
      "       nlp_f  |  16.09ms (554.76us)  16.08ms (554.50us)        29\n",
      "  nlp_grad_f  |  30.30ms (  1.59ms)  30.10ms (  1.58ms)        19\n",
      "  nlp_hess_l  | 183.01ms ( 10.77ms) 182.72ms ( 10.75ms)        17\n",
      "       total  | 269.58ms (269.58ms) 270.52ms (270.52ms)         1\n"
     ]
    }
   ],
   "source": [
    "sol = opti.solve()"
   ]
  },
  {
   "cell_type": "markdown",
   "id": "843a7aba",
   "metadata": {},
   "source": [
    "### Silence \n",
    "The solver can be given some extra options, for example here to be silent:"
   ]
  },
  {
   "cell_type": "code",
   "execution_count": 12,
   "id": "ee249933",
   "metadata": {},
   "outputs": [],
   "source": [
    "opts = {'ipopt.print_level': 0, 'print_time': 0, 'ipopt.sb': 'yes'}\n",
    "opti.solver(\"ipopt\",opts)\n",
    "sol = opti.solve()"
   ]
  },
  {
   "cell_type": "markdown",
   "id": "c8516d69",
   "metadata": {},
   "source": [
    "## Recovering the optimal values"
   ]
  },
  {
   "cell_type": "markdown",
   "id": "f4e90e9f",
   "metadata": {},
   "source": [
    "Use +opti.value(...)+ to get the value of any expresion you like.\n",
    "For example here, the value of the decision variable at the optimum and the corresponding rotation matrices are stored in 2 arrays."
   ]
  },
  {
   "cell_type": "code",
   "execution_count": 13,
   "id": "c4a887c4",
   "metadata": {},
   "outputs": [],
   "source": [
    "ws_sol = [ opti.value(w) for w in ws ]\n",
    "Rs_sol = [ opti.value(R) for R in Rs ]"
   ]
  },
  {
   "cell_type": "markdown",
   "id": "3f6896e1",
   "metadata": {},
   "source": [
    "Sanity check:"
   ]
  },
  {
   "cell_type": "code",
   "execution_count": 14,
   "id": "faacc3ac",
   "metadata": {},
   "outputs": [],
   "source": [
    "for R_sol in Rs_sol:\n",
    "    assert np.allclose(R_sol @ R_sol.T, np.eye(3))"
   ]
  },
  {
   "cell_type": "markdown",
   "id": "84f3b4e8",
   "metadata": {},
   "source": [
    "## In case IpOpt does not converge\n",
    "Then it raises an error. The candidate values are then not directly available but can be recovered."
   ]
  },
  {
   "cell_type": "code",
   "execution_count": 15,
   "id": "961f7ef9",
   "metadata": {},
   "outputs": [],
   "source": [
    "try:\n",
    "    sol = opti.solve_limited()\n",
    "    ws_sol = [ opti.value(w) for w in ws ]\n",
    "    Rs_sol = [ opti.value(R) for R in Rs ]\n",
    "except:\n",
    "    print('ERROR in convergence, plotting debug info.')\n",
    "    ws_sol = [ opti.debug.value(w) for w in ws ]\n",
    "    Rs_sol = [ opti.debug.value(R) for R in Rs ]"
   ]
  },
  {
   "cell_type": "markdown",
   "id": "0a3a1ee1",
   "metadata": {},
   "source": [
    "## Display"
   ]
  },
  {
   "cell_type": "code",
   "execution_count": 16,
   "id": "057fd100",
   "metadata": {},
   "outputs": [
    {
     "name": "stdout",
     "output_type": "stream",
     "text": [
      "You can open the visualizer by visiting the following URL:\n",
      "http://127.0.0.1:7001/static/\n"
     ]
    },
    {
     "data": {
      "text/html": [
       "\n",
       "            <div style=\"height: 400px; width: 100%; overflow-x: auto; overflow-y: hidden; resize: both\">\n",
       "            <iframe src=\"http://127.0.0.1:7001/static/\" style=\"width: 100%; height: 100%; border: none\"></iframe>\n",
       "            </div>\n",
       "            "
      ],
      "text/plain": [
       "<IPython.core.display.HTML object>"
      ]
     },
     "execution_count": 16,
     "metadata": {},
     "output_type": "execute_result"
    }
   ],
   "source": [
    "viz = MeshcatVisualizer()\n",
    "viz.viewer.jupyter_cell()"
   ]
  },
  {
   "cell_type": "code",
   "execution_count": 17,
   "id": "8dd19dd4",
   "metadata": {},
   "outputs": [],
   "source": [
    "pointID = \"world/point\"\n",
    "viz.addSphere(pointID, 0.1, [1, 0, 0, 1])\n",
    "pointdesID = \"world/pointdes\"\n",
    "viz.addSphere(pointdesID, 0.1, [0, 1, 0, 1])\n",
    "boxID = \"world/box\"\n",
    "viz.addBox(boxID, (p * 2).tolist(), [1, 1, 0, .1])\n",
    "\n",
    "def viewtraj():\n",
    "    for t,[R_sol,pt] in enumerate(zip(Rs_sol,pdes)):\n",
    "        viz.applyConfiguration(pointdesID, pt.tolist() + [0, 0, 0, 1])\n",
    "        viz.applyConfiguration(pointID, (R_sol @ p).tolist() + [0, 0, 0, 1])\n",
    "        viz.applyConfiguration(boxID, [0, 0, 0] + pin.Quaternion(R_sol).coeffs().tolist())\n",
    "        time.sleep(1e-2)"
   ]
  },
  {
   "cell_type": "code",
   "execution_count": 18,
   "id": "83563aa4",
   "metadata": {},
   "outputs": [],
   "source": [
    "viewtraj()"
   ]
  },
  {
   "cell_type": "code",
   "execution_count": null,
   "id": "490a3034",
   "metadata": {},
   "outputs": [],
   "source": []
  }
 ],
 "metadata": {
  "kernelspec": {
   "display_name": "Python 3",
   "language": "python",
   "name": "python3"
  },
  "language_info": {
   "codemirror_mode": {
    "name": "ipython",
    "version": 3
   },
   "file_extension": ".py",
   "mimetype": "text/x-python",
   "name": "python",
   "nbconvert_exporter": "python",
   "pygments_lexer": "ipython3",
   "version": "3.8.10"
  },
  "vscode": {
   "interpreter": {
    "hash": "916dbcbb3f70747c44a77c7bcd40155683ae19c65e1c03b4aa3499c5328201f1"
   }
  }
 },
 "nbformat": 4,
 "nbformat_minor": 5
}
