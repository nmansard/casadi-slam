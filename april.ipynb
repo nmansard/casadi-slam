{
 "cells": [
  {
   "cell_type": "code",
   "execution_count": 1,
   "metadata": {},
   "outputs": [],
   "source": [
    "import apriltag\n",
    "import cv2\n",
    "import numpy as np\n",
    "from vision_tools import *\n",
    "from april import *\n",
    "import pinocchio as pin\n"
   ]
  },
  {
   "cell_type": "code",
   "execution_count": 2,
   "metadata": {},
   "outputs": [],
   "source": [
    "# img = cv2.imread('data/index.jpeg', cv2.IMREAD_GRAYSCALE) #, cv2.IMREAD_GRAYSCALE)\n",
    "img = cv2.imread('data/skew.jpeg', cv2.IMREAD_GRAYSCALE) #, cv2.IMREAD_GRAYSCALE)\n"
   ]
  },
  {
   "cell_type": "code",
   "execution_count": 3,
   "metadata": {},
   "outputs": [],
   "source": [
    "\n",
    "# cv2.imshow(\"default\", img)\n",
    "# cv2.waitKey(2000) # waits until a key is pressed\n",
    "# cv2.destroyAllWindows() # destroys the window showing image"
   ]
  },
  {
   "cell_type": "code",
   "execution_count": 5,
   "metadata": {},
   "outputs": [
    {
     "name": "stdout",
     "output_type": "stream",
     "text": [
      "[Detection(tag_family=b'tag36h11', tag_id=5, hamming=0, goodness=0.0, decision_margin=87.4375, homography=array([[ 9.28986229e-01,  2.25901040e-01,  2.52270766e+00],\n",
      "       [-1.91712313e-01,  2.44261297e-01,  1.57486813e+00],\n",
      "       [ 1.30679241e-03, -1.56725245e-03,  1.87352580e-02]]), center=array([134.65027603,  84.05905775]), corners=array([[ 72.0067749 ,  80.14012146],\n",
      "       [149.27796936,  52.70389938],\n",
      "       [199.06008911,  88.08849335],\n",
      "       [114.72151947, 126.77729797]]))]\n",
      "TAG # 5\n",
      "detected corners\n",
      " [[ 72.0067749   80.14012146]\n",
      " [149.27796936  52.70389938]\n",
      " [199.06008911  88.08849335]\n",
      " [114.72151947 126.77729797]]\n",
      "predicted corners\n",
      " [[ 77.42942496  76.87914737]\n",
      " [145.77996268  54.99752711]\n",
      " [203.61321346  83.83549928]\n",
      " [106.38032268 133.49343316]]\n",
      "----------------------------------------\n",
      "\n"
     ]
    }
   ],
   "source": [
    "# detector = apriltag.apriltag(tag_family)\n",
    "detector = apriltag.Detector()\n",
    "K = np.array([[275/2, 0, 275/2],[0, 275/2, 183/2],[0, 0, 1]])\n",
    "\n",
    "result = detector.detect(img)\n",
    "\n",
    "print(result)\n",
    "\n",
    "for detection in result:\n",
    "\n",
    "    print('TAG #', detection.tag_id)\n",
    "    # print('')\n",
    "    # print('center:', detection['center'])\n",
    "\n",
    "    detected_corners = detection.corners\n",
    "\n",
    "    # PnP algorithm\n",
    "    T, R, w = poseFromCorners(tag_corners_3d, detected_corners, K, np.array([]))\n",
    "    # print('T=', T.T)\n",
    "    # print('w=', w.T)\n",
    "    # print('R=', R)\n",
    "    # print('det(R)=',np.linalg.det(R))\n",
    "\n",
    "\n",
    "\n",
    "    print('detected corners\\n', detected_corners)\n",
    "    predicted_corners = projectTagCorners(T, R, K, tag_corners_3d)\n",
    "    print('predicted corners\\n',predicted_corners)\n",
    "\n",
    "    print('----------------------------------------')\n",
    "    print('')\n",
    "\n"
   ]
  },
  {
   "cell_type": "code",
   "execution_count": 4,
   "metadata": {},
   "outputs": [
    {
     "name": "stdout",
     "output_type": "stream",
     "text": [
      "frame0016.jpg\n"
     ]
    }
   ],
   "source": [
    "file_format = 'frame{num:04d}.jpg'\n",
    "print(file_format.format(num=16))\n"
   ]
  }
 ],
 "metadata": {
  "kernelspec": {
   "display_name": "Python 3",
   "language": "python",
   "name": "python3"
  },
  "language_info": {
   "codemirror_mode": {
    "name": "ipython",
    "version": 3
   },
   "file_extension": ".py",
   "mimetype": "text/x-python",
   "name": "python",
   "nbconvert_exporter": "python",
   "pygments_lexer": "ipython3",
   "version": "3.8.10 (default, Nov 14 2022, 12:59:47) \n[GCC 9.4.0]"
  },
  "orig_nbformat": 4,
  "vscode": {
   "interpreter": {
    "hash": "916dbcbb3f70747c44a77c7bcd40155683ae19c65e1c03b4aa3499c5328201f1"
   }
  }
 },
 "nbformat": 4,
 "nbformat_minor": 2
}
