{
 "cells": [
  {
   "cell_type": "code",
   "execution_count": 17,
   "metadata": {},
   "outputs": [],
   "source": [
    "import apriltag\n",
    "import cv2\n",
    "import numpy as np\n",
    "from vision_tools import *\n",
    "# import vision_tools"
   ]
  },
  {
   "cell_type": "code",
   "execution_count": 18,
   "metadata": {},
   "outputs": [],
   "source": [
    "tag_family  = 'tag36h11'\n",
    "tag_size    = 0.20\n",
    "tag_corners = tag_size / 2 * np.array([[-1,-1],[1,-1],[1,1],[-1,1]])\n"
   ]
  },
  {
   "cell_type": "code",
   "execution_count": 19,
   "metadata": {},
   "outputs": [],
   "source": [
    "img = cv2.imread('data/skew.jpeg', cv2.IMREAD_GRAYSCALE) #, cv2.IMREAD_GRAYSCALE)\n"
   ]
  },
  {
   "cell_type": "code",
   "execution_count": 20,
   "metadata": {},
   "outputs": [],
   "source": [
    "\n",
    "# cv2.imshow(\"default\", img)\n",
    "# cv2.waitKey(2000) # waits until a key is pressed\n",
    "# cv2.destroyAllWindows() # destroys the window showing image"
   ]
  },
  {
   "cell_type": "code",
   "execution_count": 21,
   "metadata": {},
   "outputs": [
    {
     "name": "stdout",
     "output_type": "stream",
     "text": [
      "5 \t:   [134.56400591  84.11374151]\n",
      "(array([[ 493.48640433, -122.38162434,  134.56400591],\n",
      "       [-104.090461  , -131.93636163,   84.11374151],\n",
      "       [   0.68627873,    0.8197871 ,    1.        ]]), array([[1],\n",
      "       [1],\n",
      "       [1],\n",
      "       [1]], dtype=uint8))\n",
      "H= [[ 493.48640433 -122.38162434  134.56400591]\n",
      " [-104.090461   -131.93636163   84.11374151]\n",
      " [   0.68627873    0.8197871     1.        ]]\n",
      "R= [[ 0.49228316 -0.77578265  0.39473861]\n",
      " [-0.69150689 -0.94490819  0.47153089]\n",
      " [ 0.00718626 -0.50509119 -1.00162144]]\n",
      "T= [[-0.33331367]\n",
      " [-0.56532796]\n",
      " [ 0.57518701]]\n"
     ]
    }
   ],
   "source": [
    "detector = apriltag.apriltag(tag_family)\n",
    "K = np.array([[320, 0, 320],[0, 240, 320],[0, 0, 1]])\n",
    "\n",
    "result = detector.detect(img)\n",
    "\n",
    "\n",
    "detection = result[0]\n",
    "\n",
    "print(detection['id'], '\\t:  ', detection['center'])\n",
    "\n",
    "detected_corners = detection['lb-rb-rt-lt']\n",
    "\n",
    "hmg = cv2.findHomography(tag_corners, detected_corners)\n",
    "print(hmg)\n",
    "H = hmg[0]\n",
    "\n",
    "print('H=',H)\n",
    "\n",
    "R, T = poseFromHomography(H,K)\n",
    "print('R=',R)\n",
    "print('T=',T)\n"
   ]
  },
  {
   "cell_type": "code",
   "execution_count": null,
   "metadata": {},
   "outputs": [],
   "source": []
  },
  {
   "cell_type": "code",
   "execution_count": 22,
   "metadata": {},
   "outputs": [],
   "source": [
    "# cv2.destroyAllWindows() # destroys the window showing image"
   ]
  }
 ],
 "metadata": {
  "kernelspec": {
   "display_name": "Python 3",
   "language": "python",
   "name": "python3"
  },
  "language_info": {
   "codemirror_mode": {
    "name": "ipython",
    "version": 3
   },
   "file_extension": ".py",
   "mimetype": "text/x-python",
   "name": "python",
   "nbconvert_exporter": "python",
   "pygments_lexer": "ipython3",
   "version": "3.8.10"
  },
  "orig_nbformat": 4,
  "vscode": {
   "interpreter": {
    "hash": "916dbcbb3f70747c44a77c7bcd40155683ae19c65e1c03b4aa3499c5328201f1"
   }
  }
 },
 "nbformat": 4,
 "nbformat_minor": 2
}
