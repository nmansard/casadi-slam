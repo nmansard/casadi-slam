{
 "cells": [
  {
   "cell_type": "code",
   "execution_count": 1,
   "metadata": {},
   "outputs": [],
   "source": [
    "import apriltag\n",
    "import cv2\n",
    "import numpy as np\n",
    "from vision_tools import *\n",
    "from april import *\n",
    "import pinocchio as pin\n"
   ]
  },
  {
   "cell_type": "code",
   "execution_count": 2,
   "metadata": {},
   "outputs": [],
   "source": [
    "# img = cv2.imread('data/index.jpeg', cv2.IMREAD_GRAYSCALE) #, cv2.IMREAD_GRAYSCALE)\n",
    "img = cv2.imread('data/skew.jpeg', cv2.IMREAD_GRAYSCALE) #, cv2.IMREAD_GRAYSCALE)\n"
   ]
  },
  {
   "cell_type": "code",
   "execution_count": 3,
   "metadata": {},
   "outputs": [],
   "source": [
    "\n",
    "# cv2.imshow(\"default\", img)\n",
    "# cv2.waitKey(2000) # waits until a key is pressed\n",
    "# cv2.destroyAllWindows() # destroys the window showing image"
   ]
  },
  {
   "cell_type": "code",
   "execution_count": 4,
   "metadata": {},
   "outputs": [
    {
     "name": "stdout",
     "output_type": "stream",
     "text": [
      "({'hamming': 0, 'margin': 153.04278564453125, 'id': 5, 'center': array([134.56400591,  84.11374151]), 'lb-rb-rt-lt': array([[114.73308563, 126.81570435],\n",
      "       [198.80502319,  88.07419586],\n",
      "       [149.20346069,  52.59057236],\n",
      "       [ 72.01573181,  80.25764465]])},)\n",
      "TAG # 5\n",
      "detected corners\n",
      " [[114.73308563 126.81570435]\n",
      " [198.80502319  88.07419586]\n",
      " [149.20346069  52.59057236]\n",
      " [ 72.01573181  80.25764465]]\n",
      "predicted corners\n",
      " [[106.38427498 133.56550604]\n",
      " [203.3931622   83.78078643]\n",
      " [145.6839304   54.91855077]\n",
      " [ 77.44705308  76.96214767]]\n",
      "----------------------------------------\n",
      "\n"
     ]
    }
   ],
   "source": [
    "detector = apriltag.apriltag(tag_family)\n",
    "K = np.array([[275/2, 0, 275/2],[0, 275/2, 183/2],[0, 0, 1]])\n",
    "\n",
    "result = detector.detect(img)\n",
    "\n",
    "print(result)\n",
    "\n",
    "for detection in result:\n",
    "\n",
    "    print('TAG #', detection['id'])\n",
    "    # print('')\n",
    "    # print('center:', detection['center'])\n",
    "\n",
    "    detected_corners = detection['lb-rb-rt-lt']\n",
    "\n",
    "    # PnP algorithm\n",
    "    T, R, w = poseFromCorners(tag_corners_3d, detected_corners, K, np.array([]))\n",
    "    # print('T=', T.T)\n",
    "    # print('w=', w.T)\n",
    "    # print('R=', R)\n",
    "    # print('det(R)=',np.linalg.det(R))\n",
    "\n",
    "\n",
    "\n",
    "    print('detected corners\\n', detected_corners)\n",
    "    predicted_corners = projectTagCorners(T, R, K, tag_corners_3d)\n",
    "    print('predicted corners\\n',predicted_corners)\n",
    "\n",
    "    print('----------------------------------------')\n",
    "    print('')\n",
    "\n"
   ]
  }
 ],
 "metadata": {
  "kernelspec": {
   "display_name": "Python 3",
   "language": "python",
   "name": "python3"
  },
  "language_info": {
   "codemirror_mode": {
    "name": "ipython",
    "version": 3
   },
   "file_extension": ".py",
   "mimetype": "text/x-python",
   "name": "python",
   "nbconvert_exporter": "python",
   "pygments_lexer": "ipython3",
   "version": "3.8.10"
  },
  "orig_nbformat": 4,
  "vscode": {
   "interpreter": {
    "hash": "916dbcbb3f70747c44a77c7bcd40155683ae19c65e1c03b4aa3499c5328201f1"
   }
  }
 },
 "nbformat": 4,
 "nbformat_minor": 2
}
