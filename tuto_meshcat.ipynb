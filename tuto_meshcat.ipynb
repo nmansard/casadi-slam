{
 "cells": [
  {
   "cell_type": "markdown",
   "metadata": {},
   "source": [
    "# Meshcat: a 3d viewer in your browser"
   ]
  },
  {
   "cell_type": "markdown",
   "metadata": {},
   "source": [
    "This is a short tutorial about how to use Meshcat for rendering simple 3d object (or even complex STL) in your notebook."
   ]
  },
  {
   "cell_type": "markdown",
   "metadata": {},
   "source": [
    "## Set up\n",
    "We will need Meshcat obviously, and NumPy for vectors.\n",
    "If not done yet, install meschat with `python -m pip install --update meshcat`"
   ]
  },
  {
   "cell_type": "code",
   "execution_count": 1,
   "metadata": {},
   "outputs": [],
   "source": [
    "from utils.meshcat_viewer_wrapper import MeshcatVisualizer,translation2d,planar\n",
    "import numpy as np"
   ]
  },
  {
   "cell_type": "markdown",
   "metadata": {},
   "source": [
    "<a id='section_display_objects'></a>\n",
    "## Displaying objects\n",
    "Let's learn how to open a 3D viewer, in which we will build our simulator. We will use the viewer MeshCat which directly displays in a browser. Open it as follows:"
   ]
  },
  {
   "cell_type": "code",
   "execution_count": 2,
   "metadata": {},
   "outputs": [
    {
     "name": "stdout",
     "output_type": "stream",
     "text": [
      "You can open the visualizer by visiting the following URL:\n",
      "http://127.0.0.1:7000/static/\n"
     ]
    },
    {
     "data": {
      "text/html": [
       "\n",
       "            <div style=\"height: 400px; width: 100%; overflow-x: auto; overflow-y: hidden; resize: both\">\n",
       "            <iframe src=\"http://127.0.0.1:7000/static/\" style=\"width: 100%; height: 100%; border: none\"></iframe>\n",
       "            </div>\n",
       "            "
      ],
      "text/plain": [
       "<IPython.core.display.HTML object>"
      ]
     },
     "execution_count": 2,
     "metadata": {},
     "output_type": "execute_result"
    }
   ],
   "source": [
    "viz = MeshcatVisualizer()\n",
    "viz.viewer.jupyter_cell()"
   ]
  },
  {
   "cell_type": "markdown",
   "metadata": {},
   "source": [
    "The following <viz> object is a client of the viewer, i.e. it will be use to pass display command to the viewer. The first commands are to create objects:"
   ]
  },
  {
   "cell_type": "code",
   "execution_count": 3,
   "metadata": {},
   "outputs": [],
   "source": [
    "ballID = 'world/ball'; viz.addSphere(ballID,.2,[1,0,0,1])\n",
    "cylID = 'world/cyl';   viz.addCylinder(cylID,length=1,radius=.1,color=[0,0,1,1])\n",
    "boxID = 'world/box';   viz.addBox(boxID,[.5,.2,.4],[1,1,0,1])"
   ]
  },
  {
   "cell_type": "markdown",
   "metadata": {},
   "source": [
    "\n",
    "You can re-set objects under the same name, which will simply replace your object by another one. If you want to erase your world and all your objects, just run:\n"
   ]
  },
  {
   "cell_type": "code",
   "execution_count": 4,
   "metadata": {},
   "outputs": [],
   "source": [
    "viz.delete(ballID)"
   ]
  },
  {
   "cell_type": "markdown",
   "metadata": {},
   "source": [
    "Placing objects can be done using the set_transform command, and specifying a displacement as list of 7 values."
   ]
  },
  {
   "cell_type": "code",
   "execution_count": 5,
   "metadata": {},
   "outputs": [],
   "source": [
    "viz.applyConfiguration(cylID,[.1,.2,.3,1,0,0,0])"
   ]
  },
  {
   "cell_type": "markdown",
   "metadata": {},
   "source": [
    "In a first time, we will work in 2D. Here is a shortcut to place an object from x,y,theta 2d placement, so-called *planar*. An example of a shorter positioning of a 2D object using this shortcut is:"
   ]
  },
  {
   "cell_type": "code",
   "execution_count": 6,
   "metadata": {},
   "outputs": [],
   "source": [
    "viz.applyConfiguration(boxID,planar(0.1, 0.2, np.pi / 3))\n",
    "viz.applyConfiguration(cylID,planar(0.1, 0.2, 5*np.pi / 6))"
   ]
  },
  {
   "cell_type": "markdown",
   "metadata": {},
   "source": [
    "Finally, you can clean your viewer."
   ]
  },
  {
   "cell_type": "code",
   "execution_count": 7,
   "metadata": {},
   "outputs": [],
   "source": [
    "viz.delete(ballID)\n",
    "viz.delete(cylID)\n",
    "viz.delete(boxID)"
   ]
  },
  {
   "cell_type": "markdown",
   "metadata": {},
   "source": [
    "## Advanced: connetion with an existing meshcat server\n",
    "For some reasons, you might want to keep your meshcat running when stoping your Python space. \n",
    "Meshcat indeed runs as an external process and is not turned off when Python stops. \n",
    "You can start manually a meshcat server for command line with `meshcat-server`. It then gives you a +zmq_url+ for connecting and a +web_url+ for browsing. The first one must then be specified when creating the client to prevent the automatic start of a new server."
   ]
  },
  {
   "cell_type": "code",
   "execution_count": 8,
   "metadata": {
    "scrolled": true
   },
   "outputs": [
    {
     "name": "stdout",
     "output_type": "stream",
     "text": [
      "Wrapper tries to connect to server <tcp://127.0.0.1:6001>\n"
     ]
    },
    {
     "ename": "KeyboardInterrupt",
     "evalue": "",
     "output_type": "error",
     "traceback": [
      "\u001b[0;31m---------------------------------------------------------------------------\u001b[0m",
      "\u001b[0;31mKeyboardInterrupt\u001b[0m                         Traceback (most recent call last)",
      "Cell \u001b[0;32mIn [8], line 1\u001b[0m\n\u001b[0;32m----> 1\u001b[0m viz2 \u001b[39m=\u001b[39m MeshcatVisualizer(url\u001b[39m=\u001b[39;49m\u001b[39m'\u001b[39;49m\u001b[39mtcp://127.0.0.1:6001\u001b[39;49m\u001b[39m'\u001b[39;49m)\n\u001b[1;32m      2\u001b[0m viz2\u001b[39m.\u001b[39maddSphere(\u001b[39m'\u001b[39m\u001b[39mballID\u001b[39m\u001b[39m'\u001b[39m,\u001b[39m.2\u001b[39m,[\u001b[39m.1\u001b[39m,\u001b[39m.1\u001b[39m,\u001b[39m.5\u001b[39m,\u001b[39m1\u001b[39m])\n\u001b[1;32m      3\u001b[0m viz2\u001b[39m.\u001b[39mviewer\u001b[39m.\u001b[39mjupyter_cell()\n",
      "File \u001b[0;32m~/dev/casadi-slam/utils/meshcat_viewer_wrapper/visualizer.py:42\u001b[0m, in \u001b[0;36mMeshcatVisualizer.__init__\u001b[0;34m(self, robot, model, collision_model, visual_model, url)\u001b[0m\n\u001b[1;32m     40\u001b[0m         url \u001b[39m=\u001b[39m \u001b[39m'\u001b[39m\u001b[39mtcp://127.0.0.1:6000\u001b[39m\u001b[39m'\u001b[39m\n\u001b[1;32m     41\u001b[0m     \u001b[39mprint\u001b[39m(\u001b[39m'\u001b[39m\u001b[39mWrapper tries to connect to server <\u001b[39m\u001b[39m%s\u001b[39;00m\u001b[39m>\u001b[39m\u001b[39m'\u001b[39m \u001b[39m%\u001b[39m url)\n\u001b[0;32m---> 42\u001b[0m     server \u001b[39m=\u001b[39m meshcat\u001b[39m.\u001b[39;49mVisualizer(zmq_url\u001b[39m=\u001b[39;49murl)\n\u001b[1;32m     43\u001b[0m \u001b[39melse\u001b[39;00m:\n\u001b[1;32m     44\u001b[0m     server \u001b[39m=\u001b[39m \u001b[39mNone\u001b[39;00m\n",
      "File \u001b[0;32m~/.local/lib/python3.8/site-packages/meshcat/visualizer.py:92\u001b[0m, in \u001b[0;36mVisualizer.__init__\u001b[0;34m(self, zmq_url, window, server_args)\u001b[0m\n\u001b[1;32m     90\u001b[0m \u001b[39mdef\u001b[39;00m \u001b[39m__init__\u001b[39m(\u001b[39mself\u001b[39m, zmq_url\u001b[39m=\u001b[39m\u001b[39mNone\u001b[39;00m, window\u001b[39m=\u001b[39m\u001b[39mNone\u001b[39;00m, server_args\u001b[39m=\u001b[39m[]):\n\u001b[1;32m     91\u001b[0m     \u001b[39mif\u001b[39;00m window \u001b[39mis\u001b[39;00m \u001b[39mNone\u001b[39;00m:\n\u001b[0;32m---> 92\u001b[0m         \u001b[39mself\u001b[39m\u001b[39m.\u001b[39mwindow \u001b[39m=\u001b[39m ViewerWindow(zmq_url\u001b[39m=\u001b[39;49mzmq_url, start_server\u001b[39m=\u001b[39;49m(zmq_url \u001b[39mis\u001b[39;49;00m \u001b[39mNone\u001b[39;49;00m), server_args\u001b[39m=\u001b[39;49mserver_args)\n\u001b[1;32m     93\u001b[0m     \u001b[39melse\u001b[39;00m:\n\u001b[1;32m     94\u001b[0m         \u001b[39mself\u001b[39m\u001b[39m.\u001b[39mwindow \u001b[39m=\u001b[39m window\n",
      "File \u001b[0;32m~/.local/lib/python3.8/site-packages/meshcat/visualizer.py:30\u001b[0m, in \u001b[0;36mViewerWindow.__init__\u001b[0;34m(self, zmq_url, start_server, server_args)\u001b[0m\n\u001b[1;32m     27\u001b[0m \u001b[39mself\u001b[39m\u001b[39m.\u001b[39mconnect_zmq()\n\u001b[1;32m     29\u001b[0m \u001b[39mif\u001b[39;00m \u001b[39mnot\u001b[39;00m start_server:\n\u001b[0;32m---> 30\u001b[0m     \u001b[39mself\u001b[39m\u001b[39m.\u001b[39mweb_url \u001b[39m=\u001b[39m \u001b[39mself\u001b[39;49m\u001b[39m.\u001b[39;49mrequest_web_url()\n\u001b[1;32m     31\u001b[0m     \u001b[39m# Not sure why this is necessary, but requesting the web URL before\u001b[39;00m\n\u001b[1;32m     32\u001b[0m     \u001b[39m# the websocket connection is made seems to break the receiver\u001b[39;00m\n\u001b[1;32m     33\u001b[0m     \u001b[39m# callback in the server until we reconnect.\u001b[39;00m\n\u001b[1;32m     34\u001b[0m     \u001b[39mself\u001b[39m\u001b[39m.\u001b[39mconnect_zmq()\n",
      "File \u001b[0;32m~/.local/lib/python3.8/site-packages/meshcat/visualizer.py:45\u001b[0m, in \u001b[0;36mViewerWindow.request_web_url\u001b[0;34m(self)\u001b[0m\n\u001b[1;32m     43\u001b[0m \u001b[39mdef\u001b[39;00m \u001b[39mrequest_web_url\u001b[39m(\u001b[39mself\u001b[39m):\n\u001b[1;32m     44\u001b[0m     \u001b[39mself\u001b[39m\u001b[39m.\u001b[39mzmq_socket\u001b[39m.\u001b[39msend(\u001b[39mb\u001b[39m\u001b[39m\"\u001b[39m\u001b[39murl\u001b[39m\u001b[39m\"\u001b[39m)\n\u001b[0;32m---> 45\u001b[0m     response \u001b[39m=\u001b[39m \u001b[39mself\u001b[39;49m\u001b[39m.\u001b[39;49mzmq_socket\u001b[39m.\u001b[39;49mrecv()\u001b[39m.\u001b[39mdecode(\u001b[39m\"\u001b[39m\u001b[39mutf-8\u001b[39m\u001b[39m\"\u001b[39m)\n\u001b[1;32m     46\u001b[0m     \u001b[39mreturn\u001b[39;00m response\n",
      "File \u001b[0;32mzmq/backend/cython/socket.pyx:809\u001b[0m, in \u001b[0;36mzmq.backend.cython.socket.Socket.recv\u001b[0;34m()\u001b[0m\n",
      "File \u001b[0;32mzmq/backend/cython/socket.pyx:845\u001b[0m, in \u001b[0;36mzmq.backend.cython.socket.Socket.recv\u001b[0;34m()\u001b[0m\n",
      "File \u001b[0;32mzmq/backend/cython/socket.pyx:194\u001b[0m, in \u001b[0;36mzmq.backend.cython.socket._recv_copy\u001b[0;34m()\u001b[0m\n",
      "File \u001b[0;32m~/.local/lib/python3.8/site-packages/zmq/backend/cython/checkrc.pxd:13\u001b[0m, in \u001b[0;36mzmq.backend.cython.checkrc._check_rc\u001b[0;34m()\u001b[0m\n",
      "\u001b[0;31mKeyboardInterrupt\u001b[0m: "
     ]
    }
   ],
   "source": [
    "viz2 = MeshcatVisualizer(url='tcp://127.0.0.1:6001')\n",
    "viz2.addSphere('ballID',.2,[.1,.1,.5,1])\n",
    "viz2.viewer.jupyter_cell()"
   ]
  },
  {
   "cell_type": "markdown",
   "metadata": {},
   "source": [
    "For convenience, use the url='classical' as a shortcut for url='tcp://127.0.0.1:6000'."
   ]
  },
  {
   "cell_type": "markdown",
   "metadata": {},
   "source": [
    "That's all for today, folks."
   ]
  }
 ],
 "metadata": {
  "kernelspec": {
   "display_name": "Python 3",
   "language": "python",
   "name": "python3"
  },
  "language_info": {
   "codemirror_mode": {
    "name": "ipython",
    "version": 3
   },
   "file_extension": ".py",
   "mimetype": "text/x-python",
   "name": "python",
   "nbconvert_exporter": "python",
   "pygments_lexer": "ipython3",
   "version": "3.8.10"
  },
  "vscode": {
   "interpreter": {
    "hash": "916dbcbb3f70747c44a77c7bcd40155683ae19c65e1c03b4aa3499c5328201f1"
   }
  }
 },
 "nbformat": 4,
 "nbformat_minor": 2
}
