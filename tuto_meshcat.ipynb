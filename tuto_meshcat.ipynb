{
 "cells": [
  {
   "cell_type": "markdown",
   "metadata": {},
   "source": [
    "# Meshcat: a 3d viewer in your browser"
   ]
  },
  {
   "cell_type": "markdown",
   "metadata": {},
   "source": [
    "This is a short tutorial about how to use Meshcat for rendering simple 3d object (or even complex STL) in your notebook."
   ]
  },
  {
   "cell_type": "markdown",
   "metadata": {},
   "source": [
    "## Set up\n",
    "We will need Meshcat obviously, and NumPy for vectors.\n",
    "If not done yet, install meschat with `python -m pip install --update meshcat`"
   ]
  },
  {
   "cell_type": "code",
   "execution_count": null,
   "metadata": {},
   "outputs": [],
   "source": [
    "from utils.meshcat_viewer_wrapper import MeshcatVisualizer,translation2d,planar\n",
    "import numpy as np"
   ]
  },
  {
   "cell_type": "markdown",
   "metadata": {},
   "source": [
    "<a id='section_display_objects'></a>\n",
    "## Displaying objects\n",
    "Let's learn how to open a 3D viewer, in which we will build our simulator. We will use the viewer MeshCat which directly displays in a browser. Open it as follows:"
   ]
  },
  {
   "cell_type": "code",
   "execution_count": null,
   "metadata": {},
   "outputs": [],
   "source": [
    "viz = MeshcatVisualizer()\n",
    "viz.viewer.jupyter_cell()"
   ]
  },
  {
   "cell_type": "markdown",
   "metadata": {},
   "source": [
    "The following <viz> object is a client of the viewer, i.e. it will be use to pass display command to the viewer. The first commands are to create objects:"
   ]
  },
  {
   "cell_type": "code",
   "execution_count": null,
   "metadata": {},
   "outputs": [],
   "source": [
    "ballID = 'world/ball'; viz.addSphere(ballID,.2,[1,0,0,1])\n",
    "cylID = 'world/cyl';   viz.addCylinder(cylID,length=1,radius=.1,color=[0,0,1,1])\n",
    "boxID = 'world/box';   viz.addBox(boxID,[.5,.2,.4],[1,1,0,1])"
   ]
  },
  {
   "cell_type": "markdown",
   "metadata": {},
   "source": [
    "\n",
    "You can re-set objects under the same name, which will simply replace your object by another one. If you want to erase your world and all your objects, just run:\n"
   ]
  },
  {
   "cell_type": "code",
   "execution_count": null,
   "metadata": {},
   "outputs": [],
   "source": [
    "viz.delete(ballID)"
   ]
  },
  {
   "cell_type": "markdown",
   "metadata": {},
   "source": [
    "Placing objects can be done using the set_transform command, and specifying a displacement as list of 7 values."
   ]
  },
  {
   "cell_type": "code",
   "execution_count": null,
   "metadata": {},
   "outputs": [],
   "source": [
    "viz.applyConfiguration(cylID,[.1,.2,.3,1,0,0,0])"
   ]
  },
  {
   "cell_type": "markdown",
   "metadata": {},
   "source": [
    "In a first time, we will work in 2D. Here is a shortcut to place an object from x,y,theta 2d placement, so-called *planar*. An example of a shorter positioning of a 2D object using this shortcut is:"
   ]
  },
  {
   "cell_type": "code",
   "execution_count": null,
   "metadata": {},
   "outputs": [],
   "source": [
    "viz.applyConfiguration(boxID,planar(0.1, 0.2, np.pi / 3))\n",
    "viz.applyConfiguration(cylID,planar(0.1, 0.2, 5*np.pi / 6))"
   ]
  },
  {
   "cell_type": "markdown",
   "metadata": {},
   "source": [
    "Finally, you can clean your viewer."
   ]
  },
  {
   "cell_type": "code",
   "execution_count": null,
   "metadata": {},
   "outputs": [],
   "source": [
    "viz.delete(ballID)\n",
    "viz.delete(cylID)\n",
    "viz.delete(boxID)"
   ]
  },
  {
   "cell_type": "markdown",
   "metadata": {},
   "source": [
    "## Advanced: connetion with an existing meshcat server\n",
    "For some reasons, you might want to keep your meshcat running when stoping your Python space. \n",
    "Meshcat indeed runs as an external process and is not turned off when Python stops. \n",
    "You can start manually a meshcat server for command line with `meshcat-server`. It then gives you a +zmq_url+ for connecting and a +web_url+ for browsing. The first one must then be specified when creating the client to prevent the automatic start of a new server."
   ]
  },
  {
   "cell_type": "code",
   "execution_count": null,
   "metadata": {
    "scrolled": true
   },
   "outputs": [],
   "source": [
    "viz2 = MeshcatVisualizer(url='tcp://127.0.0.1:6001')\n",
    "viz2.addSphere('ballID',.2,[.1,.1,.5,1])\n",
    "viz2.viewer.jupyter_cell()"
   ]
  },
  {
   "cell_type": "markdown",
   "metadata": {},
   "source": [
    "For convenience, use the url='classical' as a shortcut for url='tcp://127.0.0.1:6000'."
   ]
  },
  {
   "cell_type": "markdown",
   "metadata": {},
   "source": [
    "That's all for today, folks."
   ]
  }
 ],
 "metadata": {
  "kernelspec": {
   "display_name": "Python 3",
   "language": "python",
   "name": "python3"
  },
  "language_info": {
   "codemirror_mode": {
    "name": "ipython",
    "version": 3
   },
   "file_extension": ".py",
   "mimetype": "text/x-python",
   "name": "python",
   "nbconvert_exporter": "python",
   "pygments_lexer": "ipython3",
   "version": "3.8.10 (default, Nov 14 2022, 12:59:47) \n[GCC 9.4.0]"
  },
  "vscode": {
   "interpreter": {
    "hash": "916dbcbb3f70747c44a77c7bcd40155683ae19c65e1c03b4aa3499c5328201f1"
   }
  }
 },
 "nbformat": 4,
 "nbformat_minor": 2
}
